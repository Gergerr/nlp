{
  "cells": [
    {
      "cell_type": "markdown",
      "metadata": {
        "id": "view-in-github",
        "colab_type": "text"
      },
      "source": [
        "<a href=\"https://colab.research.google.com/github/Gergerr/nlp/blob/main/01_stemming_and_lemmatization_demo.ipynb\" target=\"_parent\"><img src=\"https://colab.research.google.com/assets/colab-badge.svg\" alt=\"Open In Colab\"/></a>"
      ]
    },
    {
      "cell_type": "code",
      "execution_count": null,
      "metadata": {
        "_cell_guid": "b1076dfc-b9ad-4769-8c92-a6c4dae69d19",
        "_uuid": "8f2839f25d086af736a60e9eeb907d3b93b6e0e5",
        "execution": {
          "iopub.execute_input": "2024-08-24T14:41:39.415983Z",
          "iopub.status.busy": "2024-08-24T14:41:39.415500Z",
          "iopub.status.idle": "2024-08-24T14:41:41.753029Z",
          "shell.execute_reply": "2024-08-24T14:41:41.751584Z",
          "shell.execute_reply.started": "2024-08-24T14:41:39.415947Z"
        },
        "id": "Sh91kCjS0fZ1"
      },
      "outputs": [],
      "source": [
        "import nltk"
      ]
    },
    {
      "cell_type": "code",
      "execution_count": null,
      "metadata": {
        "execution": {
          "iopub.execute_input": "2024-08-24T14:41:41.756646Z",
          "iopub.status.busy": "2024-08-24T14:41:41.756022Z",
          "iopub.status.idle": "2024-08-24T14:41:41.762836Z",
          "shell.execute_reply": "2024-08-24T14:41:41.761271Z",
          "shell.execute_reply.started": "2024-08-24T14:41:41.756601Z"
        },
        "id": "poA1Sgf20fZ5"
      },
      "outputs": [],
      "source": [
        "from nltk.stem import PorterStemmer\n",
        "porter= PorterStemmer()"
      ]
    },
    {
      "cell_type": "markdown",
      "metadata": {
        "id": "FyZtIglU0fZ6"
      },
      "source": [
        "# Stemming"
      ]
    },
    {
      "cell_type": "code",
      "execution_count": null,
      "metadata": {
        "execution": {
          "iopub.execute_input": "2024-08-24T14:41:41.764957Z",
          "iopub.status.busy": "2024-08-24T14:41:41.764560Z",
          "iopub.status.idle": "2024-08-24T14:41:41.777456Z",
          "shell.execute_reply": "2024-08-24T14:41:41.775830Z",
          "shell.execute_reply.started": "2024-08-24T14:41:41.764922Z"
        },
        "id": "RDijwr2f0faA",
        "outputId": "70a80077-98ff-49d4-85e7-64f5cf6b998d"
      },
      "outputs": [
        {
          "data": {
            "text/plain": [
              "'walk'"
            ]
          },
          "execution_count": 3,
          "metadata": {},
          "output_type": "execute_result"
        }
      ],
      "source": [
        "porter.stem('walked')"
      ]
    },
    {
      "cell_type": "code",
      "execution_count": null,
      "metadata": {
        "execution": {
          "iopub.execute_input": "2024-08-24T14:41:41.779443Z",
          "iopub.status.busy": "2024-08-24T14:41:41.779041Z",
          "iopub.status.idle": "2024-08-24T14:41:41.788404Z",
          "shell.execute_reply": "2024-08-24T14:41:41.786326Z",
          "shell.execute_reply.started": "2024-08-24T14:41:41.779407Z"
        },
        "id": "L0Qj0QdR0faB",
        "outputId": "b39711c3-1387-4eb0-9c55-7096dc04a6ea"
      },
      "outputs": [
        {
          "data": {
            "text/plain": [
              "'walk'"
            ]
          },
          "execution_count": 4,
          "metadata": {},
          "output_type": "execute_result"
        }
      ],
      "source": [
        "porter.stem('walks')"
      ]
    },
    {
      "cell_type": "code",
      "execution_count": null,
      "metadata": {
        "execution": {
          "iopub.execute_input": "2024-08-24T14:41:41.792061Z",
          "iopub.status.busy": "2024-08-24T14:41:41.791730Z",
          "iopub.status.idle": "2024-08-24T14:41:41.800152Z",
          "shell.execute_reply": "2024-08-24T14:41:41.798630Z",
          "shell.execute_reply.started": "2024-08-24T14:41:41.792036Z"
        },
        "id": "15K6gUVL0faB",
        "outputId": "6d641ec6-0677-4da3-c0ee-d0eb1271b4ab"
      },
      "outputs": [
        {
          "data": {
            "text/plain": [
              "'ran'"
            ]
          },
          "execution_count": 5,
          "metadata": {},
          "output_type": "execute_result"
        }
      ],
      "source": [
        "porter.stem('ran')"
      ]
    },
    {
      "cell_type": "code",
      "execution_count": null,
      "metadata": {
        "execution": {
          "iopub.execute_input": "2024-08-24T14:41:41.801437Z",
          "iopub.status.busy": "2024-08-24T14:41:41.801162Z",
          "iopub.status.idle": "2024-08-24T14:41:41.809614Z",
          "shell.execute_reply": "2024-08-24T14:41:41.807728Z",
          "shell.execute_reply.started": "2024-08-24T14:41:41.801413Z"
        },
        "id": "krJ33dc70faB",
        "outputId": "397758aa-7ca7-413d-dc4c-b3267bdcef4c"
      },
      "outputs": [
        {
          "data": {
            "text/plain": [
              "'run'"
            ]
          },
          "execution_count": 6,
          "metadata": {},
          "output_type": "execute_result"
        }
      ],
      "source": [
        "porter.stem('running')"
      ]
    },
    {
      "cell_type": "code",
      "execution_count": null,
      "metadata": {
        "execution": {
          "iopub.execute_input": "2024-08-24T14:41:41.812669Z",
          "iopub.status.busy": "2024-08-24T14:41:41.811978Z",
          "iopub.status.idle": "2024-08-24T14:41:41.822688Z",
          "shell.execute_reply": "2024-08-24T14:41:41.821175Z",
          "shell.execute_reply.started": "2024-08-24T14:41:41.812619Z"
        },
        "id": "u047X5IP0faC",
        "outputId": "1c69d9b2-6ff2-4678-bdcc-49c1e054eed3"
      },
      "outputs": [
        {
          "data": {
            "text/plain": [
              "'boss'"
            ]
          },
          "execution_count": 7,
          "metadata": {},
          "output_type": "execute_result"
        }
      ],
      "source": [
        "porter.stem('bosses')"
      ]
    },
    {
      "cell_type": "code",
      "execution_count": null,
      "metadata": {
        "execution": {
          "iopub.execute_input": "2024-08-24T14:41:41.825151Z",
          "iopub.status.busy": "2024-08-24T14:41:41.824323Z",
          "iopub.status.idle": "2024-08-24T14:41:41.834403Z",
          "shell.execute_reply": "2024-08-24T14:41:41.832847Z",
          "shell.execute_reply.started": "2024-08-24T14:41:41.825105Z"
        },
        "id": "-yEmp_GG0faC",
        "outputId": "d71e584c-5336-4552-9abd-b5977afa48b9"
      },
      "outputs": [
        {
          "data": {
            "text/plain": [
              "'replac'"
            ]
          },
          "execution_count": 8,
          "metadata": {},
          "output_type": "execute_result"
        }
      ],
      "source": [
        "porter.stem('replacement') # This is an example why stemming is bad."
      ]
    },
    {
      "cell_type": "code",
      "execution_count": null,
      "metadata": {
        "execution": {
          "iopub.execute_input": "2024-08-24T14:41:41.837043Z",
          "iopub.status.busy": "2024-08-24T14:41:41.836566Z",
          "iopub.status.idle": "2024-08-24T14:41:41.844396Z",
          "shell.execute_reply": "2024-08-24T14:41:41.842901Z",
          "shell.execute_reply.started": "2024-08-24T14:41:41.837007Z"
        },
        "id": "wl9oJZoY0faC",
        "outputId": "cf7effb0-9b0f-439b-9a5a-e444b5c737c9"
      },
      "outputs": [
        {
          "name": "stdout",
          "output_type": "stream",
          "text": [
            "lemmat is more sophist than stem "
          ]
        }
      ],
      "source": [
        "sentence= \"Lemmatization is more sophisticated than stemming\".split()\n",
        "for token in sentence:\n",
        "    print(porter.stem(token), end= \" \")\n",
        "# bruh"
      ]
    },
    {
      "cell_type": "code",
      "execution_count": null,
      "metadata": {
        "execution": {
          "iopub.execute_input": "2024-08-24T14:41:41.846809Z",
          "iopub.status.busy": "2024-08-24T14:41:41.846260Z",
          "iopub.status.idle": "2024-08-24T14:41:41.855664Z",
          "shell.execute_reply": "2024-08-24T14:41:41.854528Z",
          "shell.execute_reply.started": "2024-08-24T14:41:41.846764Z"
        },
        "id": "2S_z7UPY0faD",
        "outputId": "b50ad72c-11d3-47d4-9b03-837995d2ca83"
      },
      "outputs": [
        {
          "data": {
            "text/plain": [
              "'unnecessari'"
            ]
          },
          "execution_count": 10,
          "metadata": {},
          "output_type": "execute_result"
        }
      ],
      "source": [
        "porter.stem('unnecessary') # Another example"
      ]
    },
    {
      "cell_type": "code",
      "execution_count": null,
      "metadata": {
        "execution": {
          "iopub.execute_input": "2024-08-24T14:41:41.857961Z",
          "iopub.status.busy": "2024-08-24T14:41:41.857494Z",
          "iopub.status.idle": "2024-08-24T14:41:41.865557Z",
          "shell.execute_reply": "2024-08-24T14:41:41.864156Z",
          "shell.execute_reply.started": "2024-08-24T14:41:41.857918Z"
        },
        "id": "ov4-cuhP0faD",
        "outputId": "a91bc010-a98a-4f08-984f-0d2cf8f4ff1b"
      },
      "outputs": [
        {
          "data": {
            "text/plain": [
              "'berri'"
            ]
          },
          "execution_count": 11,
          "metadata": {},
          "output_type": "execute_result"
        }
      ],
      "source": [
        "porter.stem('berry')"
      ]
    },
    {
      "cell_type": "markdown",
      "metadata": {
        "id": "VQl33A8C0faD"
      },
      "source": [
        "# Lemmatizer"
      ]
    },
    {
      "cell_type": "code",
      "execution_count": null,
      "metadata": {
        "execution": {
          "iopub.execute_input": "2024-08-24T14:41:41.867456Z",
          "iopub.status.busy": "2024-08-24T14:41:41.866966Z",
          "iopub.status.idle": "2024-08-24T14:41:41.872296Z",
          "shell.execute_reply": "2024-08-24T14:41:41.870881Z",
          "shell.execute_reply.started": "2024-08-24T14:41:41.867418Z"
        },
        "id": "XfMLCnVr0faD"
      },
      "outputs": [],
      "source": [
        "from nltk.stem import WordNetLemmatizer"
      ]
    },
    {
      "cell_type": "code",
      "execution_count": null,
      "metadata": {
        "execution": {
          "iopub.execute_input": "2024-08-24T14:41:41.874511Z",
          "iopub.status.busy": "2024-08-24T14:41:41.874147Z",
          "iopub.status.idle": "2024-08-24T14:41:42.119021Z",
          "shell.execute_reply": "2024-08-24T14:41:42.117884Z",
          "shell.execute_reply.started": "2024-08-24T14:41:41.874482Z"
        },
        "id": "VK0WJIba0faD",
        "outputId": "1a43fbba-6147-42bb-f6bc-61b454fa6943"
      },
      "outputs": [
        {
          "name": "stderr",
          "output_type": "stream",
          "text": [
            "[nltk_data] Downloading package wordnet to /root/nltk_data...\n"
          ]
        },
        {
          "data": {
            "text/plain": [
              "True"
            ]
          },
          "execution_count": 13,
          "metadata": {},
          "output_type": "execute_result"
        }
      ],
      "source": [
        "nltk.download(\"wordnet\")"
      ]
    },
    {
      "cell_type": "code",
      "execution_count": null,
      "metadata": {
        "execution": {
          "iopub.execute_input": "2024-08-24T14:41:42.124053Z",
          "iopub.status.busy": "2024-08-24T14:41:42.123582Z",
          "iopub.status.idle": "2024-08-24T14:41:42.129869Z",
          "shell.execute_reply": "2024-08-24T14:41:42.128696Z",
          "shell.execute_reply.started": "2024-08-24T14:41:42.124013Z"
        },
        "id": "PoTxeLOk0faD"
      },
      "outputs": [],
      "source": [
        "from nltk.corpus import wordnet"
      ]
    },
    {
      "cell_type": "code",
      "execution_count": null,
      "metadata": {
        "execution": {
          "iopub.execute_input": "2024-08-24T14:41:42.131751Z",
          "iopub.status.busy": "2024-08-24T14:41:42.131244Z",
          "iopub.status.idle": "2024-08-24T14:41:42.137154Z",
          "shell.execute_reply": "2024-08-24T14:41:42.135736Z",
          "shell.execute_reply.started": "2024-08-24T14:41:42.131715Z"
        },
        "id": "lmNSqcRZ0faE"
      },
      "outputs": [],
      "source": [
        "lemmatizer= WordNetLemmatizer()"
      ]
    },
    {
      "cell_type": "code",
      "execution_count": null,
      "metadata": {
        "execution": {
          "iopub.execute_input": "2024-08-24T14:41:42.139360Z",
          "iopub.status.busy": "2024-08-24T14:41:42.138919Z",
          "iopub.status.idle": "2024-08-24T14:41:43.593432Z",
          "shell.execute_reply": "2024-08-24T14:41:43.592212Z",
          "shell.execute_reply.started": "2024-08-24T14:41:42.139323Z"
        },
        "id": "_dpet7nT0faE",
        "outputId": "32b88b39-f5fb-4b64-901d-dc46ac006fc5"
      },
      "outputs": [
        {
          "data": {
            "text/plain": [
              "'walking'"
            ]
          },
          "execution_count": 16,
          "metadata": {},
          "output_type": "execute_result"
        }
      ],
      "source": [
        "lemmatizer.lemmatize(\"walking\")"
      ]
    },
    {
      "cell_type": "code",
      "execution_count": null,
      "metadata": {
        "execution": {
          "iopub.execute_input": "2024-08-24T14:41:43.595149Z",
          "iopub.status.busy": "2024-08-24T14:41:43.594783Z",
          "iopub.status.idle": "2024-08-24T14:41:43.601882Z",
          "shell.execute_reply": "2024-08-24T14:41:43.600853Z",
          "shell.execute_reply.started": "2024-08-24T14:41:43.595115Z"
        },
        "id": "0h7FXpwk0faE",
        "outputId": "88af3398-89b9-4c5d-e119-011c86dd3520"
      },
      "outputs": [
        {
          "data": {
            "text/plain": [
              "'walk'"
            ]
          },
          "execution_count": 17,
          "metadata": {},
          "output_type": "execute_result"
        }
      ],
      "source": [
        "lemmatizer.lemmatize(\"walking\", pos= wordnet.VERB)"
      ]
    },
    {
      "cell_type": "code",
      "execution_count": null,
      "metadata": {
        "execution": {
          "iopub.execute_input": "2024-08-24T14:41:43.603962Z",
          "iopub.status.busy": "2024-08-24T14:41:43.603579Z",
          "iopub.status.idle": "2024-08-24T14:41:43.612308Z",
          "shell.execute_reply": "2024-08-24T14:41:43.610403Z",
          "shell.execute_reply.started": "2024-08-24T14:41:43.603927Z"
        },
        "id": "ebiZWIfZ0faE",
        "outputId": "08e811c5-cf35-45b8-a33a-806424eeeb0c"
      },
      "outputs": [
        {
          "data": {
            "text/plain": [
              "'going'"
            ]
          },
          "execution_count": 18,
          "metadata": {},
          "output_type": "execute_result"
        }
      ],
      "source": [
        "lemmatizer.lemmatize('going')"
      ]
    },
    {
      "cell_type": "code",
      "execution_count": null,
      "metadata": {
        "execution": {
          "iopub.execute_input": "2024-08-24T14:41:43.614798Z",
          "iopub.status.busy": "2024-08-24T14:41:43.614231Z",
          "iopub.status.idle": "2024-08-24T14:41:43.623740Z",
          "shell.execute_reply": "2024-08-24T14:41:43.622124Z",
          "shell.execute_reply.started": "2024-08-24T14:41:43.614755Z"
        },
        "id": "MzaCmjgJ0faE",
        "outputId": "ba8d687d-feb7-4871-e0f3-a239bd5e5bac"
      },
      "outputs": [
        {
          "data": {
            "text/plain": [
              "'go'"
            ]
          },
          "execution_count": 19,
          "metadata": {},
          "output_type": "execute_result"
        }
      ],
      "source": [
        "lemmatizer.lemmatize('going', pos= wordnet.VERB)"
      ]
    },
    {
      "cell_type": "code",
      "execution_count": null,
      "metadata": {
        "execution": {
          "iopub.execute_input": "2024-08-24T14:41:43.625652Z",
          "iopub.status.busy": "2024-08-24T14:41:43.625239Z",
          "iopub.status.idle": "2024-08-24T14:41:43.634066Z",
          "shell.execute_reply": "2024-08-24T14:41:43.632810Z",
          "shell.execute_reply.started": "2024-08-24T14:41:43.625596Z"
        },
        "id": "79Fw8gHT0faF",
        "outputId": "ee491380-8254-4a81-d4cf-4f6c097cd07a"
      },
      "outputs": [
        {
          "data": {
            "text/plain": [
              "'run'"
            ]
          },
          "execution_count": 20,
          "metadata": {},
          "output_type": "execute_result"
        }
      ],
      "source": [
        "lemmatizer.lemmatize('ran', pos= wordnet.VERB)"
      ]
    },
    {
      "cell_type": "code",
      "execution_count": null,
      "metadata": {
        "execution": {
          "iopub.execute_input": "2024-08-24T14:41:43.635468Z",
          "iopub.status.busy": "2024-08-24T14:41:43.635120Z",
          "iopub.status.idle": "2024-08-24T14:41:43.642792Z",
          "shell.execute_reply": "2024-08-24T14:41:43.641169Z",
          "shell.execute_reply.started": "2024-08-24T14:41:43.635435Z"
        },
        "id": "IOZAVxLf0faF",
        "outputId": "356e0d8c-1db0-4c1f-c03f-7377f535df5f"
      },
      "outputs": [
        {
          "data": {
            "text/plain": [
              "'mouse'"
            ]
          },
          "execution_count": 21,
          "metadata": {},
          "output_type": "execute_result"
        }
      ],
      "source": [
        "lemmatizer.lemmatize('mice')"
      ]
    },
    {
      "cell_type": "code",
      "execution_count": null,
      "metadata": {
        "execution": {
          "iopub.execute_input": "2024-08-24T14:41:43.644011Z",
          "iopub.status.busy": "2024-08-24T14:41:43.643768Z",
          "iopub.status.idle": "2024-08-24T14:41:43.650825Z",
          "shell.execute_reply": "2024-08-24T14:41:43.649519Z",
          "shell.execute_reply.started": "2024-08-24T14:41:43.643989Z"
        },
        "id": "AZFGCLAN0faF",
        "outputId": "5fe4faad-b6da-4ddb-a9b0-3ecd09717e29"
      },
      "outputs": [
        {
          "data": {
            "text/plain": [
              "'wa'"
            ]
          },
          "execution_count": 22,
          "metadata": {},
          "output_type": "execute_result"
        }
      ],
      "source": [
        "porter.stem('was')\n",
        "# Not a real word.\n"
      ]
    },
    {
      "cell_type": "code",
      "execution_count": null,
      "metadata": {
        "execution": {
          "iopub.execute_input": "2024-08-24T14:43:06.633097Z",
          "iopub.status.busy": "2024-08-24T14:43:06.632605Z",
          "iopub.status.idle": "2024-08-24T14:43:06.641553Z",
          "shell.execute_reply": "2024-08-24T14:43:06.640070Z",
          "shell.execute_reply.started": "2024-08-24T14:43:06.633058Z"
        },
        "id": "f9iFRGpt0faF",
        "outputId": "e5d274b3-fd6e-4eca-b0a2-b5de14d83a6b"
      },
      "outputs": [
        {
          "data": {
            "text/plain": [
              "'be'"
            ]
          },
          "execution_count": 25,
          "metadata": {},
          "output_type": "execute_result"
        }
      ],
      "source": [
        "lemmatizer.lemmatize('was', pos= wordnet.VERB)\n",
        "# Make sense"
      ]
    },
    {
      "cell_type": "code",
      "execution_count": null,
      "metadata": {
        "execution": {
          "iopub.execute_input": "2024-08-24T14:43:17.005208Z",
          "iopub.status.busy": "2024-08-24T14:43:17.004194Z",
          "iopub.status.idle": "2024-08-24T14:43:17.012570Z",
          "shell.execute_reply": "2024-08-24T14:43:17.011236Z",
          "shell.execute_reply.started": "2024-08-24T14:43:17.005163Z"
        },
        "id": "V-jI49iF0faF",
        "outputId": "6890854b-182a-49cb-b95e-d6f24a601b00"
      },
      "outputs": [
        {
          "data": {
            "text/plain": [
              "'is'"
            ]
          },
          "execution_count": 26,
          "metadata": {},
          "output_type": "execute_result"
        }
      ],
      "source": [
        "porter.stem('is')"
      ]
    },
    {
      "cell_type": "code",
      "execution_count": null,
      "metadata": {
        "execution": {
          "iopub.execute_input": "2024-08-24T14:43:27.872142Z",
          "iopub.status.busy": "2024-08-24T14:43:27.870922Z",
          "iopub.status.idle": "2024-08-24T14:43:27.879599Z",
          "shell.execute_reply": "2024-08-24T14:43:27.877960Z",
          "shell.execute_reply.started": "2024-08-24T14:43:27.872095Z"
        },
        "id": "IgiPJufz0faF",
        "outputId": "4cf39fc5-0d9b-4097-8ea7-8b31287f1e83"
      },
      "outputs": [
        {
          "data": {
            "text/plain": [
              "'be'"
            ]
          },
          "execution_count": 27,
          "metadata": {},
          "output_type": "execute_result"
        }
      ],
      "source": [
        "lemmatizer.lemmatize('is', pos= wordnet.VERB)"
      ]
    },
    {
      "cell_type": "code",
      "execution_count": null,
      "metadata": {
        "execution": {
          "iopub.execute_input": "2024-08-24T14:43:37.800346Z",
          "iopub.status.busy": "2024-08-24T14:43:37.799933Z",
          "iopub.status.idle": "2024-08-24T14:43:37.811487Z",
          "shell.execute_reply": "2024-08-24T14:43:37.809626Z",
          "shell.execute_reply.started": "2024-08-24T14:43:37.800311Z"
        },
        "id": "TSyz_rur0faG",
        "outputId": "9a1d8de5-a430-4ee4-f13e-4c861e05d6f2"
      },
      "outputs": [
        {
          "data": {
            "text/plain": [
              "'better'"
            ]
          },
          "execution_count": 28,
          "metadata": {},
          "output_type": "execute_result"
        }
      ],
      "source": [
        "porter.stem('better')"
      ]
    },
    {
      "cell_type": "code",
      "execution_count": null,
      "metadata": {
        "execution": {
          "iopub.execute_input": "2024-08-24T14:43:50.251054Z",
          "iopub.status.busy": "2024-08-24T14:43:50.250568Z",
          "iopub.status.idle": "2024-08-24T14:43:50.259820Z",
          "shell.execute_reply": "2024-08-24T14:43:50.258266Z",
          "shell.execute_reply.started": "2024-08-24T14:43:50.251016Z"
        },
        "id": "fJPjpaoa0faG",
        "outputId": "490c59de-7401-4ea2-8e11-2c0b9cbb507d"
      },
      "outputs": [
        {
          "data": {
            "text/plain": [
              "'good'"
            ]
          },
          "execution_count": 29,
          "metadata": {},
          "output_type": "execute_result"
        }
      ],
      "source": [
        "lemmatizer.lemmatize('better', pos= wordnet.ADJ)"
      ]
    },
    {
      "cell_type": "markdown",
      "metadata": {
        "execution": {
          "iopub.execute_input": "2024-08-24T14:44:48.384686Z",
          "iopub.status.busy": "2024-08-24T14:44:48.384187Z",
          "iopub.status.idle": "2024-08-24T14:44:48.391545Z",
          "shell.execute_reply": "2024-08-24T14:44:48.390218Z",
          "shell.execute_reply.started": "2024-08-24T14:44:48.384646Z"
        },
        "id": "Ho2hiZrl0faG"
      },
      "source": [
        "It is kinda lazy right, to manually enter the part of speech (POS) for every word.\n",
        "We can do this automatically.\n",
        "\n",
        "POS tagging is a fundamental NLP task. It is included in NLTK.\n",
        "However, the POS speech returned by POS tagger are not compatible with the input to the lemmatizer.\n",
        "\n",
        "We need a function to convert one to another."
      ]
    },
    {
      "cell_type": "code",
      "execution_count": null,
      "metadata": {
        "execution": {
          "iopub.execute_input": "2024-08-24T14:46:48.681658Z",
          "iopub.status.busy": "2024-08-24T14:46:48.680600Z",
          "iopub.status.idle": "2024-08-24T14:46:48.688390Z",
          "shell.execute_reply": "2024-08-24T14:46:48.687206Z",
          "shell.execute_reply.started": "2024-08-24T14:46:48.681604Z"
        },
        "id": "kNj_JkOl0faG"
      },
      "outputs": [],
      "source": [
        "def get_wordnet_pos(treebank_tag):\n",
        "    if treebank_tag.startswith('J'):\n",
        "        return wordnet.ADJ\n",
        "    elif treebank_tag.startswith('V'):\n",
        "        return wordnet.VERB\n",
        "    elif treebank_tag.startswith('N'):\n",
        "        return wordnet.NOUN\n",
        "    elif treebank_tag.startswith('R'):\n",
        "        return wordnet.ADV\n",
        "    else:\n",
        "        return wordnet.NOUN"
      ]
    },
    {
      "cell_type": "code",
      "execution_count": null,
      "metadata": {
        "execution": {
          "iopub.execute_input": "2024-08-24T14:48:18.649994Z",
          "iopub.status.busy": "2024-08-24T14:48:18.648591Z",
          "iopub.status.idle": "2024-08-24T14:48:18.778630Z",
          "shell.execute_reply": "2024-08-24T14:48:18.777181Z",
          "shell.execute_reply.started": "2024-08-24T14:48:18.649942Z"
        },
        "id": "as_FjyJ80faH",
        "outputId": "b198b55b-b67f-4e26-90c5-f93209eed48a"
      },
      "outputs": [
        {
          "name": "stderr",
          "output_type": "stream",
          "text": [
            "[nltk_data] Downloading package averaged_perceptron_tagger to\n",
            "[nltk_data]     /root/nltk_data...\n",
            "[nltk_data]   Unzipping taggers/averaged_perceptron_tagger.zip.\n"
          ]
        },
        {
          "data": {
            "text/plain": [
              "True"
            ]
          },
          "execution_count": 32,
          "metadata": {},
          "output_type": "execute_result"
        }
      ],
      "source": [
        "nltk.download('averaged_perceptron_tagger')"
      ]
    },
    {
      "cell_type": "code",
      "execution_count": null,
      "metadata": {
        "execution": {
          "iopub.execute_input": "2024-08-24T14:48:33.182347Z",
          "iopub.status.busy": "2024-08-24T14:48:33.181168Z",
          "iopub.status.idle": "2024-08-24T14:48:33.189386Z",
          "shell.execute_reply": "2024-08-24T14:48:33.187071Z",
          "shell.execute_reply.started": "2024-08-24T14:48:33.182259Z"
        },
        "id": "3PbK6_0N0faH"
      },
      "outputs": [],
      "source": [
        "sentence= 'Donald Trump has a devoted following'.split()"
      ]
    },
    {
      "cell_type": "code",
      "execution_count": null,
      "metadata": {
        "execution": {
          "iopub.execute_input": "2024-08-24T14:48:45.054652Z",
          "iopub.status.busy": "2024-08-24T14:48:45.053371Z",
          "iopub.status.idle": "2024-08-24T14:48:45.266571Z",
          "shell.execute_reply": "2024-08-24T14:48:45.265076Z",
          "shell.execute_reply.started": "2024-08-24T14:48:45.054598Z"
        },
        "id": "QUbz9WUs0faH",
        "outputId": "0c6f3da4-5c72-4916-96ad-fa7f13a3d104"
      },
      "outputs": [
        {
          "data": {
            "text/plain": [
              "[('Donald', 'NNP'),\n",
              " ('Trump', 'NNP'),\n",
              " ('has', 'VBZ'),\n",
              " ('a', 'DT'),\n",
              " ('devoted', 'VBN'),\n",
              " ('following', 'NN')]"
            ]
          },
          "execution_count": 34,
          "metadata": {},
          "output_type": "execute_result"
        }
      ],
      "source": [
        "words_and_tags= nltk.pos_tag(sentence)\n",
        "words_and_tags"
      ]
    },
    {
      "cell_type": "code",
      "execution_count": null,
      "metadata": {
        "execution": {
          "iopub.execute_input": "2024-08-24T14:49:34.654040Z",
          "iopub.status.busy": "2024-08-24T14:49:34.653371Z",
          "iopub.status.idle": "2024-08-24T14:49:34.660719Z",
          "shell.execute_reply": "2024-08-24T14:49:34.659527Z",
          "shell.execute_reply.started": "2024-08-24T14:49:34.654003Z"
        },
        "id": "HtyH3EK50faH",
        "outputId": "0715fd87-774a-4a56-853b-c110194e9bc2"
      },
      "outputs": [
        {
          "name": "stdout",
          "output_type": "stream",
          "text": [
            "Donald Trump have a devote following "
          ]
        }
      ],
      "source": [
        "for word, tag in words_and_tags:\n",
        "    lemma= lemmatizer.lemmatize(word, pos= get_wordnet_pos(tag))\n",
        "    print(lemma, end= \" \")"
      ]
    },
    {
      "cell_type": "code",
      "execution_count": null,
      "metadata": {
        "execution": {
          "iopub.execute_input": "2024-08-24T14:49:51.850942Z",
          "iopub.status.busy": "2024-08-24T14:49:51.850510Z",
          "iopub.status.idle": "2024-08-24T14:49:51.856662Z",
          "shell.execute_reply": "2024-08-24T14:49:51.855139Z",
          "shell.execute_reply.started": "2024-08-24T14:49:51.850907Z"
        },
        "id": "WIBiUdeW0faI"
      },
      "outputs": [],
      "source": [
        "sentence= 'The cat was following the bird as it flew by'.split()"
      ]
    },
    {
      "cell_type": "code",
      "execution_count": null,
      "metadata": {
        "execution": {
          "iopub.execute_input": "2024-08-24T14:50:02.061657Z",
          "iopub.status.busy": "2024-08-24T14:50:02.061145Z",
          "iopub.status.idle": "2024-08-24T14:50:02.071795Z",
          "shell.execute_reply": "2024-08-24T14:50:02.070225Z",
          "shell.execute_reply.started": "2024-08-24T14:50:02.061616Z"
        },
        "id": "ZVTJaNWy0faI",
        "outputId": "d808114b-783c-409d-c4cd-1e9e071a738a"
      },
      "outputs": [
        {
          "data": {
            "text/plain": [
              "[('The', 'DT'),\n",
              " ('cat', 'NN'),\n",
              " ('was', 'VBD'),\n",
              " ('following', 'VBG'),\n",
              " ('the', 'DT'),\n",
              " ('bird', 'NN'),\n",
              " ('as', 'IN'),\n",
              " ('it', 'PRP'),\n",
              " ('flew', 'VBD'),\n",
              " ('by', 'IN')]"
            ]
          },
          "execution_count": 37,
          "metadata": {},
          "output_type": "execute_result"
        }
      ],
      "source": [
        "words_and_tags= nltk.pos_tag(sentence)\n",
        "words_and_tags"
      ]
    },
    {
      "cell_type": "code",
      "execution_count": null,
      "metadata": {
        "execution": {
          "iopub.execute_input": "2024-08-24T14:50:10.688000Z",
          "iopub.status.busy": "2024-08-24T14:50:10.687405Z",
          "iopub.status.idle": "2024-08-24T14:50:10.695831Z",
          "shell.execute_reply": "2024-08-24T14:50:10.694258Z",
          "shell.execute_reply.started": "2024-08-24T14:50:10.687964Z"
        },
        "id": "2uFzD00s0faI",
        "outputId": "8329075d-d318-449c-eac9-38e28843a163"
      },
      "outputs": [
        {
          "name": "stdout",
          "output_type": "stream",
          "text": [
            "The cat be follow the bird a it fly by "
          ]
        }
      ],
      "source": [
        "for word, tag in words_and_tags:\n",
        "    lemma= lemmatizer.lemmatize(word, pos= get_wordnet_pos(tag))\n",
        "    print(lemma, end= \" \")"
      ]
    },
    {
      "cell_type": "code",
      "execution_count": null,
      "metadata": {
        "id": "1g5aCi840faJ"
      },
      "outputs": [],
      "source": []
    }
  ],
  "metadata": {
    "kaggle": {
      "accelerator": "none",
      "dataSources": [],
      "dockerImageVersionId": 30746,
      "isGpuEnabled": false,
      "isInternetEnabled": true,
      "language": "python",
      "sourceType": "notebook"
    },
    "kernelspec": {
      "display_name": "Python 3 (ipykernel)",
      "language": "python",
      "name": "python3"
    },
    "language_info": {
      "codemirror_mode": {
        "name": "ipython",
        "version": 3
      },
      "file_extension": ".py",
      "mimetype": "text/x-python",
      "name": "python",
      "nbconvert_exporter": "python",
      "pygments_lexer": "ipython3",
      "version": "3.11.7"
    },
    "colab": {
      "provenance": [],
      "include_colab_link": true
    }
  },
  "nbformat": 4,
  "nbformat_minor": 0
}